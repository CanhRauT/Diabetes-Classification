{
 "cells": [
  {
   "cell_type": "code",
   "execution_count": 1,
   "id": "3fe0b4fe",
   "metadata": {
    "_cell_guid": "b1076dfc-b9ad-4769-8c92-a6c4dae69d19",
    "_uuid": "8f2839f25d086af736a60e9eeb907d3b93b6e0e5",
    "execution": {
     "iopub.execute_input": "2024-09-12T05:46:56.716006Z",
     "iopub.status.busy": "2024-09-12T05:46:56.715484Z",
     "iopub.status.idle": "2024-09-12T05:46:57.189818Z",
     "shell.execute_reply": "2024-09-12T05:46:57.188174Z"
    },
    "papermill": {
     "duration": 0.494631,
     "end_time": "2024-09-12T05:46:57.193622",
     "exception": false,
     "start_time": "2024-09-12T05:46:56.698991",
     "status": "completed"
    },
    "tags": []
   },
   "outputs": [
    {
     "name": "stdout",
     "output_type": "stream",
     "text": [
      "/kaggle/input/diabetes-dataset-for-beginners/diabetes.csv\n"
     ]
    }
   ],
   "source": [
    "# This Python 3 environment comes with many helpful analytics libraries installed\n",
    "# It is defined by the kaggle/python Docker image: https://github.com/kaggle/docker-python\n",
    "# For example, here's several helpful packages to load\n",
    "\n",
    "import numpy as np # linear algebra\n",
    "import pandas as pd # data processing, CSV file I/O (e.g. pd.read_csv)\n",
    "\n",
    "# Input data files are available in the read-only \"../input/\" directory\n",
    "# For example, running this (by clicking run or pressing Shift+Enter) will list all files under the input directory\n",
    "\n",
    "import os\n",
    "for dirname, _, filenames in os.walk('/kaggle/input'):\n",
    "    for filename in filenames:\n",
    "        print(os.path.join(dirname, filename))\n",
    "\n",
    "# You can write up to 20GB to the current directory (/kaggle/working/) that gets preserved as output when you create a version using \"Save & Run All\" \n",
    "# You can also write temporary files to /kaggle/temp/, but they won't be saved outside of the current session"
   ]
  },
  {
   "cell_type": "code",
   "execution_count": 2,
   "id": "5add24bd",
   "metadata": {
    "execution": {
     "iopub.execute_input": "2024-09-12T05:46:57.223598Z",
     "iopub.status.busy": "2024-09-12T05:46:57.223074Z",
     "iopub.status.idle": "2024-09-12T05:46:59.662140Z",
     "shell.execute_reply": "2024-09-12T05:46:59.660948Z"
    },
    "papermill": {
     "duration": 2.456262,
     "end_time": "2024-09-12T05:46:59.664944",
     "exception": false,
     "start_time": "2024-09-12T05:46:57.208682",
     "status": "completed"
    },
    "tags": []
   },
   "outputs": [],
   "source": [
    "import numpy as np\n",
    "import pandas as pd\n",
    "import matplotlib.pyplot as plt\n",
    "import seaborn as sns\n",
    "import plotly.express as px"
   ]
  },
  {
   "cell_type": "code",
   "execution_count": 3,
   "id": "072369c3",
   "metadata": {
    "execution": {
     "iopub.execute_input": "2024-09-12T05:46:59.694604Z",
     "iopub.status.busy": "2024-09-12T05:46:59.693436Z",
     "iopub.status.idle": "2024-09-12T05:46:59.714374Z",
     "shell.execute_reply": "2024-09-12T05:46:59.713477Z"
    },
    "papermill": {
     "duration": 0.038328,
     "end_time": "2024-09-12T05:46:59.716956",
     "exception": false,
     "start_time": "2024-09-12T05:46:59.678628",
     "status": "completed"
    },
    "tags": []
   },
   "outputs": [],
   "source": [
    "dia_df=pd.read_csv(\"/kaggle/input/diabetes-dataset-for-beginners/diabetes.csv\")"
   ]
  },
  {
   "cell_type": "code",
   "execution_count": 4,
   "id": "fd38b143",
   "metadata": {
    "execution": {
     "iopub.execute_input": "2024-09-12T05:46:59.747025Z",
     "iopub.status.busy": "2024-09-12T05:46:59.746026Z",
     "iopub.status.idle": "2024-09-12T05:46:59.773792Z",
     "shell.execute_reply": "2024-09-12T05:46:59.772880Z"
    },
    "papermill": {
     "duration": 0.04562,
     "end_time": "2024-09-12T05:46:59.776178",
     "exception": false,
     "start_time": "2024-09-12T05:46:59.730558",
     "status": "completed"
    },
    "tags": []
   },
   "outputs": [
    {
     "data": {
      "text/html": [
       "<div>\n",
       "<style scoped>\n",
       "    .dataframe tbody tr th:only-of-type {\n",
       "        vertical-align: middle;\n",
       "    }\n",
       "\n",
       "    .dataframe tbody tr th {\n",
       "        vertical-align: top;\n",
       "    }\n",
       "\n",
       "    .dataframe thead th {\n",
       "        text-align: right;\n",
       "    }\n",
       "</style>\n",
       "<table border=\"1\" class=\"dataframe\">\n",
       "  <thead>\n",
       "    <tr style=\"text-align: right;\">\n",
       "      <th></th>\n",
       "      <th>Pregnancies</th>\n",
       "      <th>Glucose</th>\n",
       "      <th>BloodPressure</th>\n",
       "      <th>SkinThickness</th>\n",
       "      <th>Insulin</th>\n",
       "      <th>BMI</th>\n",
       "      <th>DiabetesPedigreeFunction</th>\n",
       "      <th>Age</th>\n",
       "      <th>Outcome</th>\n",
       "    </tr>\n",
       "  </thead>\n",
       "  <tbody>\n",
       "    <tr>\n",
       "      <th>0</th>\n",
       "      <td>6</td>\n",
       "      <td>148</td>\n",
       "      <td>72</td>\n",
       "      <td>35</td>\n",
       "      <td>0</td>\n",
       "      <td>33.6</td>\n",
       "      <td>0.627</td>\n",
       "      <td>50</td>\n",
       "      <td>1</td>\n",
       "    </tr>\n",
       "    <tr>\n",
       "      <th>1</th>\n",
       "      <td>1</td>\n",
       "      <td>85</td>\n",
       "      <td>66</td>\n",
       "      <td>29</td>\n",
       "      <td>0</td>\n",
       "      <td>26.6</td>\n",
       "      <td>0.351</td>\n",
       "      <td>31</td>\n",
       "      <td>0</td>\n",
       "    </tr>\n",
       "    <tr>\n",
       "      <th>2</th>\n",
       "      <td>8</td>\n",
       "      <td>183</td>\n",
       "      <td>64</td>\n",
       "      <td>0</td>\n",
       "      <td>0</td>\n",
       "      <td>23.3</td>\n",
       "      <td>0.672</td>\n",
       "      <td>32</td>\n",
       "      <td>1</td>\n",
       "    </tr>\n",
       "    <tr>\n",
       "      <th>3</th>\n",
       "      <td>1</td>\n",
       "      <td>89</td>\n",
       "      <td>66</td>\n",
       "      <td>23</td>\n",
       "      <td>94</td>\n",
       "      <td>28.1</td>\n",
       "      <td>0.167</td>\n",
       "      <td>21</td>\n",
       "      <td>0</td>\n",
       "    </tr>\n",
       "    <tr>\n",
       "      <th>4</th>\n",
       "      <td>0</td>\n",
       "      <td>137</td>\n",
       "      <td>40</td>\n",
       "      <td>35</td>\n",
       "      <td>168</td>\n",
       "      <td>43.1</td>\n",
       "      <td>2.288</td>\n",
       "      <td>33</td>\n",
       "      <td>1</td>\n",
       "    </tr>\n",
       "  </tbody>\n",
       "</table>\n",
       "</div>"
      ],
      "text/plain": [
       "   Pregnancies  Glucose  BloodPressure  SkinThickness  Insulin   BMI  \\\n",
       "0            6      148             72             35        0  33.6   \n",
       "1            1       85             66             29        0  26.6   \n",
       "2            8      183             64              0        0  23.3   \n",
       "3            1       89             66             23       94  28.1   \n",
       "4            0      137             40             35      168  43.1   \n",
       "\n",
       "   DiabetesPedigreeFunction  Age  Outcome  \n",
       "0                     0.627   50        1  \n",
       "1                     0.351   31        0  \n",
       "2                     0.672   32        1  \n",
       "3                     0.167   21        0  \n",
       "4                     2.288   33        1  "
      ]
     },
     "execution_count": 4,
     "metadata": {},
     "output_type": "execute_result"
    }
   ],
   "source": [
    "dia_df.head(5)"
   ]
  },
  {
   "cell_type": "markdown",
   "id": "290c2a4e",
   "metadata": {
    "papermill": {
     "duration": 0.013474,
     "end_time": "2024-09-12T05:46:59.803789",
     "exception": false,
     "start_time": "2024-09-12T05:46:59.790315",
     "status": "completed"
    },
    "tags": []
   },
   "source": [
    "* male vs female\n",
    "* age vs glucose lv\n",
    "\n"
   ]
  },
  {
   "cell_type": "code",
   "execution_count": 5,
   "id": "caf4fff4",
   "metadata": {
    "execution": {
     "iopub.execute_input": "2024-09-12T05:46:59.833071Z",
     "iopub.status.busy": "2024-09-12T05:46:59.832638Z",
     "iopub.status.idle": "2024-09-12T05:46:59.856733Z",
     "shell.execute_reply": "2024-09-12T05:46:59.855451Z"
    },
    "papermill": {
     "duration": 0.0413,
     "end_time": "2024-09-12T05:46:59.859181",
     "exception": false,
     "start_time": "2024-09-12T05:46:59.817881",
     "status": "completed"
    },
    "tags": []
   },
   "outputs": [
    {
     "name": "stdout",
     "output_type": "stream",
     "text": [
      "<class 'pandas.core.frame.DataFrame'>\n",
      "RangeIndex: 768 entries, 0 to 767\n",
      "Data columns (total 9 columns):\n",
      " #   Column                    Non-Null Count  Dtype  \n",
      "---  ------                    --------------  -----  \n",
      " 0   Pregnancies               768 non-null    int64  \n",
      " 1   Glucose                   768 non-null    int64  \n",
      " 2   BloodPressure             768 non-null    int64  \n",
      " 3   SkinThickness             768 non-null    int64  \n",
      " 4   Insulin                   768 non-null    int64  \n",
      " 5   BMI                       768 non-null    float64\n",
      " 6   DiabetesPedigreeFunction  768 non-null    float64\n",
      " 7   Age                       768 non-null    int64  \n",
      " 8   Outcome                   768 non-null    int64  \n",
      "dtypes: float64(2), int64(7)\n",
      "memory usage: 54.1 KB\n"
     ]
    }
   ],
   "source": [
    "dia_df.info()"
   ]
  },
  {
   "cell_type": "code",
   "execution_count": 6,
   "id": "f56ecb34",
   "metadata": {
    "execution": {
     "iopub.execute_input": "2024-09-12T05:46:59.889253Z",
     "iopub.status.busy": "2024-09-12T05:46:59.888835Z",
     "iopub.status.idle": "2024-09-12T05:46:59.926543Z",
     "shell.execute_reply": "2024-09-12T05:46:59.925529Z"
    },
    "papermill": {
     "duration": 0.055666,
     "end_time": "2024-09-12T05:46:59.929076",
     "exception": false,
     "start_time": "2024-09-12T05:46:59.873410",
     "status": "completed"
    },
    "tags": []
   },
   "outputs": [
    {
     "data": {
      "text/html": [
       "<div>\n",
       "<style scoped>\n",
       "    .dataframe tbody tr th:only-of-type {\n",
       "        vertical-align: middle;\n",
       "    }\n",
       "\n",
       "    .dataframe tbody tr th {\n",
       "        vertical-align: top;\n",
       "    }\n",
       "\n",
       "    .dataframe thead th {\n",
       "        text-align: right;\n",
       "    }\n",
       "</style>\n",
       "<table border=\"1\" class=\"dataframe\">\n",
       "  <thead>\n",
       "    <tr style=\"text-align: right;\">\n",
       "      <th></th>\n",
       "      <th>Pregnancies</th>\n",
       "      <th>Glucose</th>\n",
       "      <th>BloodPressure</th>\n",
       "      <th>SkinThickness</th>\n",
       "      <th>Insulin</th>\n",
       "      <th>BMI</th>\n",
       "      <th>DiabetesPedigreeFunction</th>\n",
       "      <th>Age</th>\n",
       "      <th>Outcome</th>\n",
       "    </tr>\n",
       "  </thead>\n",
       "  <tbody>\n",
       "    <tr>\n",
       "      <th>count</th>\n",
       "      <td>768.000000</td>\n",
       "      <td>768.000000</td>\n",
       "      <td>768.000000</td>\n",
       "      <td>768.000000</td>\n",
       "      <td>768.000000</td>\n",
       "      <td>768.000000</td>\n",
       "      <td>768.000000</td>\n",
       "      <td>768.000000</td>\n",
       "      <td>768.000000</td>\n",
       "    </tr>\n",
       "    <tr>\n",
       "      <th>mean</th>\n",
       "      <td>3.845052</td>\n",
       "      <td>120.894531</td>\n",
       "      <td>69.105469</td>\n",
       "      <td>20.536458</td>\n",
       "      <td>79.799479</td>\n",
       "      <td>31.992578</td>\n",
       "      <td>0.471876</td>\n",
       "      <td>33.240885</td>\n",
       "      <td>0.348958</td>\n",
       "    </tr>\n",
       "    <tr>\n",
       "      <th>std</th>\n",
       "      <td>3.369578</td>\n",
       "      <td>31.972618</td>\n",
       "      <td>19.355807</td>\n",
       "      <td>15.952218</td>\n",
       "      <td>115.244002</td>\n",
       "      <td>7.884160</td>\n",
       "      <td>0.331329</td>\n",
       "      <td>11.760232</td>\n",
       "      <td>0.476951</td>\n",
       "    </tr>\n",
       "    <tr>\n",
       "      <th>min</th>\n",
       "      <td>0.000000</td>\n",
       "      <td>0.000000</td>\n",
       "      <td>0.000000</td>\n",
       "      <td>0.000000</td>\n",
       "      <td>0.000000</td>\n",
       "      <td>0.000000</td>\n",
       "      <td>0.078000</td>\n",
       "      <td>21.000000</td>\n",
       "      <td>0.000000</td>\n",
       "    </tr>\n",
       "    <tr>\n",
       "      <th>25%</th>\n",
       "      <td>1.000000</td>\n",
       "      <td>99.000000</td>\n",
       "      <td>62.000000</td>\n",
       "      <td>0.000000</td>\n",
       "      <td>0.000000</td>\n",
       "      <td>27.300000</td>\n",
       "      <td>0.243750</td>\n",
       "      <td>24.000000</td>\n",
       "      <td>0.000000</td>\n",
       "    </tr>\n",
       "    <tr>\n",
       "      <th>50%</th>\n",
       "      <td>3.000000</td>\n",
       "      <td>117.000000</td>\n",
       "      <td>72.000000</td>\n",
       "      <td>23.000000</td>\n",
       "      <td>30.500000</td>\n",
       "      <td>32.000000</td>\n",
       "      <td>0.372500</td>\n",
       "      <td>29.000000</td>\n",
       "      <td>0.000000</td>\n",
       "    </tr>\n",
       "    <tr>\n",
       "      <th>75%</th>\n",
       "      <td>6.000000</td>\n",
       "      <td>140.250000</td>\n",
       "      <td>80.000000</td>\n",
       "      <td>32.000000</td>\n",
       "      <td>127.250000</td>\n",
       "      <td>36.600000</td>\n",
       "      <td>0.626250</td>\n",
       "      <td>41.000000</td>\n",
       "      <td>1.000000</td>\n",
       "    </tr>\n",
       "    <tr>\n",
       "      <th>max</th>\n",
       "      <td>17.000000</td>\n",
       "      <td>199.000000</td>\n",
       "      <td>122.000000</td>\n",
       "      <td>99.000000</td>\n",
       "      <td>846.000000</td>\n",
       "      <td>67.100000</td>\n",
       "      <td>2.420000</td>\n",
       "      <td>81.000000</td>\n",
       "      <td>1.000000</td>\n",
       "    </tr>\n",
       "  </tbody>\n",
       "</table>\n",
       "</div>"
      ],
      "text/plain": [
       "       Pregnancies     Glucose  BloodPressure  SkinThickness     Insulin  \\\n",
       "count   768.000000  768.000000     768.000000     768.000000  768.000000   \n",
       "mean      3.845052  120.894531      69.105469      20.536458   79.799479   \n",
       "std       3.369578   31.972618      19.355807      15.952218  115.244002   \n",
       "min       0.000000    0.000000       0.000000       0.000000    0.000000   \n",
       "25%       1.000000   99.000000      62.000000       0.000000    0.000000   \n",
       "50%       3.000000  117.000000      72.000000      23.000000   30.500000   \n",
       "75%       6.000000  140.250000      80.000000      32.000000  127.250000   \n",
       "max      17.000000  199.000000     122.000000      99.000000  846.000000   \n",
       "\n",
       "              BMI  DiabetesPedigreeFunction         Age     Outcome  \n",
       "count  768.000000                768.000000  768.000000  768.000000  \n",
       "mean    31.992578                  0.471876   33.240885    0.348958  \n",
       "std      7.884160                  0.331329   11.760232    0.476951  \n",
       "min      0.000000                  0.078000   21.000000    0.000000  \n",
       "25%     27.300000                  0.243750   24.000000    0.000000  \n",
       "50%     32.000000                  0.372500   29.000000    0.000000  \n",
       "75%     36.600000                  0.626250   41.000000    1.000000  \n",
       "max     67.100000                  2.420000   81.000000    1.000000  "
      ]
     },
     "execution_count": 6,
     "metadata": {},
     "output_type": "execute_result"
    }
   ],
   "source": [
    "dia_df.describe()"
   ]
  },
  {
   "cell_type": "markdown",
   "id": "9a539fe1",
   "metadata": {
    "papermill": {
     "duration": 0.013947,
     "end_time": "2024-09-12T05:46:59.956701",
     "exception": false,
     "start_time": "2024-09-12T05:46:59.942754",
     "status": "completed"
    },
    "tags": []
   },
   "source": [
    "Data with 0 will be replaces by the means"
   ]
  },
  {
   "cell_type": "code",
   "execution_count": 7,
   "id": "33d9cac7",
   "metadata": {
    "execution": {
     "iopub.execute_input": "2024-09-12T05:46:59.986852Z",
     "iopub.status.busy": "2024-09-12T05:46:59.986365Z",
     "iopub.status.idle": "2024-09-12T05:46:59.995955Z",
     "shell.execute_reply": "2024-09-12T05:46:59.994835Z"
    },
    "papermill": {
     "duration": 0.027249,
     "end_time": "2024-09-12T05:46:59.998151",
     "exception": false,
     "start_time": "2024-09-12T05:46:59.970902",
     "status": "completed"
    },
    "tags": []
   },
   "outputs": [
    {
     "data": {
      "text/plain": [
       "Pregnancies                 0\n",
       "Glucose                     0\n",
       "BloodPressure               0\n",
       "SkinThickness               0\n",
       "Insulin                     0\n",
       "BMI                         0\n",
       "DiabetesPedigreeFunction    0\n",
       "Age                         0\n",
       "Outcome                     0\n",
       "dtype: int64"
      ]
     },
     "execution_count": 7,
     "metadata": {},
     "output_type": "execute_result"
    }
   ],
   "source": [
    "dia_df.isnull().sum()"
   ]
  },
  {
   "cell_type": "code",
   "execution_count": 8,
   "id": "ae53e49d",
   "metadata": {
    "execution": {
     "iopub.execute_input": "2024-09-12T05:47:00.028854Z",
     "iopub.status.busy": "2024-09-12T05:47:00.028118Z",
     "iopub.status.idle": "2024-09-12T05:47:00.051443Z",
     "shell.execute_reply": "2024-09-12T05:47:00.050328Z"
    },
    "papermill": {
     "duration": 0.041439,
     "end_time": "2024-09-12T05:47:00.053983",
     "exception": false,
     "start_time": "2024-09-12T05:47:00.012544",
     "status": "completed"
    },
    "tags": []
   },
   "outputs": [
    {
     "data": {
      "text/html": [
       "<div>\n",
       "<style scoped>\n",
       "    .dataframe tbody tr th:only-of-type {\n",
       "        vertical-align: middle;\n",
       "    }\n",
       "\n",
       "    .dataframe tbody tr th {\n",
       "        vertical-align: top;\n",
       "    }\n",
       "\n",
       "    .dataframe thead th {\n",
       "        text-align: right;\n",
       "    }\n",
       "</style>\n",
       "<table border=\"1\" class=\"dataframe\">\n",
       "  <thead>\n",
       "    <tr style=\"text-align: right;\">\n",
       "      <th></th>\n",
       "      <th>Pregnancies</th>\n",
       "      <th>Glucose</th>\n",
       "      <th>BloodPressure</th>\n",
       "      <th>SkinThickness</th>\n",
       "      <th>Insulin</th>\n",
       "      <th>BMI</th>\n",
       "      <th>DiabetesPedigreeFunction</th>\n",
       "      <th>Age</th>\n",
       "      <th>Outcome</th>\n",
       "    </tr>\n",
       "  </thead>\n",
       "  <tbody>\n",
       "    <tr>\n",
       "      <th>0</th>\n",
       "      <td>6</td>\n",
       "      <td>148.0</td>\n",
       "      <td>72.0</td>\n",
       "      <td>35.000000</td>\n",
       "      <td>64.465703</td>\n",
       "      <td>33.6</td>\n",
       "      <td>0.627</td>\n",
       "      <td>50</td>\n",
       "      <td>1</td>\n",
       "    </tr>\n",
       "    <tr>\n",
       "      <th>1</th>\n",
       "      <td>1</td>\n",
       "      <td>85.0</td>\n",
       "      <td>66.0</td>\n",
       "      <td>29.000000</td>\n",
       "      <td>64.465703</td>\n",
       "      <td>26.6</td>\n",
       "      <td>0.351</td>\n",
       "      <td>31</td>\n",
       "      <td>0</td>\n",
       "    </tr>\n",
       "    <tr>\n",
       "      <th>2</th>\n",
       "      <td>8</td>\n",
       "      <td>183.0</td>\n",
       "      <td>64.0</td>\n",
       "      <td>64.465703</td>\n",
       "      <td>64.465703</td>\n",
       "      <td>23.3</td>\n",
       "      <td>0.672</td>\n",
       "      <td>32</td>\n",
       "      <td>1</td>\n",
       "    </tr>\n",
       "    <tr>\n",
       "      <th>3</th>\n",
       "      <td>1</td>\n",
       "      <td>89.0</td>\n",
       "      <td>66.0</td>\n",
       "      <td>23.000000</td>\n",
       "      <td>94.000000</td>\n",
       "      <td>28.1</td>\n",
       "      <td>0.167</td>\n",
       "      <td>21</td>\n",
       "      <td>0</td>\n",
       "    </tr>\n",
       "    <tr>\n",
       "      <th>4</th>\n",
       "      <td>0</td>\n",
       "      <td>137.0</td>\n",
       "      <td>40.0</td>\n",
       "      <td>35.000000</td>\n",
       "      <td>168.000000</td>\n",
       "      <td>43.1</td>\n",
       "      <td>2.288</td>\n",
       "      <td>33</td>\n",
       "      <td>1</td>\n",
       "    </tr>\n",
       "  </tbody>\n",
       "</table>\n",
       "</div>"
      ],
      "text/plain": [
       "   Pregnancies  Glucose  BloodPressure  SkinThickness     Insulin   BMI  \\\n",
       "0            6    148.0           72.0      35.000000   64.465703  33.6   \n",
       "1            1     85.0           66.0      29.000000   64.465703  26.6   \n",
       "2            8    183.0           64.0      64.465703   64.465703  23.3   \n",
       "3            1     89.0           66.0      23.000000   94.000000  28.1   \n",
       "4            0    137.0           40.0      35.000000  168.000000  43.1   \n",
       "\n",
       "   DiabetesPedigreeFunction  Age  Outcome  \n",
       "0                     0.627   50        1  \n",
       "1                     0.351   31        0  \n",
       "2                     0.672   32        1  \n",
       "3                     0.167   21        0  \n",
       "4                     2.288   33        1  "
      ]
     },
     "execution_count": 8,
     "metadata": {},
     "output_type": "execute_result"
    }
   ],
   "source": [
    "cols = ['Glucose', 'BloodPressure', 'SkinThickness', 'Insulin', 'BMI']\n",
    "dia_df[cols] = dia_df[cols].replace(0, np.mean(dia_df[cols])) # replacing zeros with mean\n",
    "dia_df.head()\n"
   ]
  },
  {
   "cell_type": "code",
   "execution_count": 9,
   "id": "677fe7ae",
   "metadata": {
    "execution": {
     "iopub.execute_input": "2024-09-12T05:47:00.085282Z",
     "iopub.status.busy": "2024-09-12T05:47:00.084553Z",
     "iopub.status.idle": "2024-09-12T05:47:00.536436Z",
     "shell.execute_reply": "2024-09-12T05:47:00.535342Z"
    },
    "papermill": {
     "duration": 0.47006,
     "end_time": "2024-09-12T05:47:00.538740",
     "exception": false,
     "start_time": "2024-09-12T05:47:00.068680",
     "status": "completed"
    },
    "tags": []
   },
   "outputs": [
    {
     "data": {
      "text/plain": [
       "Text(0.5, 0, 'Pregnancies')"
      ]
     },
     "execution_count": 9,
     "metadata": {},
     "output_type": "execute_result"
    },
    {
     "data": {
      "image/png": "[encoded data removed]",
      "text/plain": [
       "<Figure size 640x480 with 1 Axes>"
      ]
     },
     "metadata": {},
     "output_type": "display_data"
    }
   ],
   "source": [
    "sns.set_style('whitegrid')\n",
    "dia_df['Pregnancies'].hist(bins=10)\n",
    "plt.xlabel(\"Pregnancies\")"
   ]
  },
  {
   "cell_type": "code",
   "execution_count": 10,
   "id": "be59959f",
   "metadata": {
    "execution": {
     "iopub.execute_input": "2024-09-12T05:47:00.570996Z",
     "iopub.status.busy": "2024-09-12T05:47:00.570560Z",
     "iopub.status.idle": "2024-09-12T05:47:00.954370Z",
     "shell.execute_reply": "2024-09-12T05:47:00.953249Z"
    },
    "papermill": {
     "duration": 0.403018,
     "end_time": "2024-09-12T05:47:00.957062",
     "exception": false,
     "start_time": "2024-09-12T05:47:00.554044",
     "status": "completed"
    },
    "tags": []
   },
   "outputs": [
    {
     "data": {
      "text/plain": [
       "Text(0.5, 0, 'BloodPressure')"
      ]
     },
     "execution_count": 10,
     "metadata": {},
     "output_type": "execute_result"
    },
    {
     "data": {
      "image/png": "[encoded data removed]",
      "text/plain": [
       "<Figure size 640x480 with 1 Axes>"
      ]
     },
     "metadata": {},
     "output_type": "display_data"
    }
   ],
   "source": [
    "sns.set_style('whitegrid')\n",
    "dia_df['BloodPressure'].hist(bins=10)\n",
    "plt.xlabel(\"BloodPressure\")"
   ]
  },
  {
   "cell_type": "code",
   "execution_count": 11,
   "id": "ca37144d",
   "metadata": {
    "execution": {
     "iopub.execute_input": "2024-09-12T05:47:00.990549Z",
     "iopub.status.busy": "2024-09-12T05:47:00.989659Z",
     "iopub.status.idle": "2024-09-12T05:47:01.432251Z",
     "shell.execute_reply": "2024-09-12T05:47:01.431126Z"
    },
    "papermill": {
     "duration": 0.462206,
     "end_time": "2024-09-12T05:47:01.434858",
     "exception": false,
     "start_time": "2024-09-12T05:47:00.972652",
     "status": "completed"
    },
    "tags": []
   },
   "outputs": [
    {
     "data": {
      "text/plain": [
       "Text(0.5, 0, 'Glucose')"
      ]
     },
     "execution_count": 11,
     "metadata": {},
     "output_type": "execute_result"
    },
    {
     "data": {
      "image/png": "[encoded data removed]",
      "text/plain": [
       "<Figure size 640x480 with 1 Axes>"
      ]
     },
     "metadata": {},
     "output_type": "display_data"
    }
   ],
   "source": [
    "sns.set_style('whitegrid')\n",
    "dia_df['Glucose'].hist(bins=10)\n",
    "plt.xlabel(\"Glucose\")"
   ]
  },
  {
   "cell_type": "code",
   "execution_count": 12,
   "id": "0ad4822e",
   "metadata": {
    "execution": {
     "iopub.execute_input": "2024-09-12T05:47:01.470926Z",
     "iopub.status.busy": "2024-09-12T05:47:01.470473Z",
     "iopub.status.idle": "2024-09-12T05:47:01.780219Z",
     "shell.execute_reply": "2024-09-12T05:47:01.778795Z"
    },
    "papermill": {
     "duration": 0.330125,
     "end_time": "2024-09-12T05:47:01.782966",
     "exception": false,
     "start_time": "2024-09-12T05:47:01.452841",
     "status": "completed"
    },
    "tags": []
   },
   "outputs": [
    {
     "data": {
      "text/plain": [
       "Text(0.5, 0, 'SkinThickness')"
      ]
     },
     "execution_count": 12,
     "metadata": {},
     "output_type": "execute_result"
    },
    {
     "data": {
      "image/png": "[encoded data removed]",
      "text/plain": [
       "<Figure size 640x480 with 1 Axes>"
      ]
     },
     "metadata": {},
     "output_type": "display_data"
    }
   ],
   "source": [
    "sns.set_style('whitegrid')\n",
    "dia_df['SkinThickness'].hist(bins=10)\n",
    "plt.xlabel(\"SkinThickness\")"
   ]
  },
  {
   "cell_type": "code",
   "execution_count": 13,
   "id": "2bfae796",
   "metadata": {
    "execution": {
     "iopub.execute_input": "2024-09-12T05:47:01.818743Z",
     "iopub.status.busy": "2024-09-12T05:47:01.818299Z",
     "iopub.status.idle": "2024-09-12T05:47:02.188323Z",
     "shell.execute_reply": "2024-09-12T05:47:02.187352Z"
    },
    "papermill": {
     "duration": 0.391139,
     "end_time": "2024-09-12T05:47:02.190850",
     "exception": false,
     "start_time": "2024-09-12T05:47:01.799711",
     "status": "completed"
    },
    "tags": []
   },
   "outputs": [
    {
     "data": {
      "text/plain": [
       "Text(0.5, 0, 'Insulin')"
      ]
     },
     "execution_count": 13,
     "metadata": {},
     "output_type": "execute_result"
    },
    {
     "data": {
      "image/png": "[encoded data removed]",
      "text/plain": [
       "<Figure size 640x480 with 1 Axes>"
      ]
     },
     "metadata": {},
     "output_type": "display_data"
    }
   ],
   "source": [
    "sns.set_style('whitegrid')\n",
    "dia_df['Insulin'].hist(bins=10)\n",
    "plt.xlabel(\"Insulin\")"
   ]
  },
  {
   "cell_type": "code",
   "execution_count": 14,
   "id": "58f83abf",
   "metadata": {
    "execution": {
     "iopub.execute_input": "2024-09-12T05:47:02.229922Z",
     "iopub.status.busy": "2024-09-12T05:47:02.229506Z",
     "iopub.status.idle": "2024-09-12T05:47:02.641756Z",
     "shell.execute_reply": "2024-09-12T05:47:02.640873Z"
    },
    "papermill": {
     "duration": 0.434842,
     "end_time": "2024-09-12T05:47:02.644035",
     "exception": false,
     "start_time": "2024-09-12T05:47:02.209193",
     "status": "completed"
    },
    "tags": []
   },
   "outputs": [
    {
     "data": {
      "text/plain": [
       "Text(0.5, 0, 'BMI')"
      ]
     },
     "execution_count": 14,
     "metadata": {},
     "output_type": "execute_result"
    },
    {
     "data": {
      "image/png": "[encoded data removed]",
      "text/plain": [
       "<Figure size 640x480 with 1 Axes>"
      ]
     },
     "metadata": {},
     "output_type": "display_data"
    }
   ],
   "source": [
    "sns.set_style('whitegrid')\n",
    "dia_df['BMI'].hist(bins=10)\n",
    "plt.xlabel(\"BMI\")"
   ]
  },
  {
   "cell_type": "code",
   "execution_count": 15,
   "id": "7155bb13",
   "metadata": {
    "execution": {
     "iopub.execute_input": "2024-09-12T05:47:02.680181Z",
     "iopub.status.busy": "2024-09-12T05:47:02.679239Z",
     "iopub.status.idle": "2024-09-12T05:47:03.064042Z",
     "shell.execute_reply": "2024-09-12T05:47:03.062972Z"
    },
    "papermill": {
     "duration": 0.405485,
     "end_time": "2024-09-12T05:47:03.066365",
     "exception": false,
     "start_time": "2024-09-12T05:47:02.660880",
     "status": "completed"
    },
    "tags": []
   },
   "outputs": [
    {
     "data": {
      "text/plain": [
       "Text(0.5, 0, 'DiabetesPedigreeFunction')"
      ]
     },
     "execution_count": 15,
     "metadata": {},
     "output_type": "execute_result"
    },
    {
     "data": {
      "image/png": "[encoded data removed]",
      "text/plain": [
       "<Figure size 640x480 with 1 Axes>"
      ]
     },
     "metadata": {},
     "output_type": "display_data"
    }
   ],
   "source": [
    "sns.set_style('whitegrid')\n",
    "dia_df['DiabetesPedigreeFunction'].hist(bins=10)\n",
    "plt.xlabel(\"DiabetesPedigreeFunction\")"
   ]
  },
  {
   "cell_type": "code",
   "execution_count": 16,
   "id": "e6a5ff5e",
   "metadata": {
    "execution": {
     "iopub.execute_input": "2024-09-12T05:47:03.103589Z",
     "iopub.status.busy": "2024-09-12T05:47:03.103147Z",
     "iopub.status.idle": "2024-09-12T05:47:03.599032Z",
     "shell.execute_reply": "2024-09-12T05:47:03.597919Z"
    },
    "papermill": {
     "duration": 0.517373,
     "end_time": "2024-09-12T05:47:03.601337",
     "exception": false,
     "start_time": "2024-09-12T05:47:03.083964",
     "status": "completed"
    },
    "tags": []
   },
   "outputs": [
    {
     "data": {
      "text/plain": [
       "Text(0.5, 0, 'Age')"
      ]
     },
     "execution_count": 16,
     "metadata": {},
     "output_type": "execute_result"
    },
    {
     "data": {
      "image/png": "[encoded data removed]",
      "text/plain": [
       "<Figure size 640x480 with 1 Axes>"
      ]
     },
     "metadata": {},
     "output_type": "display_data"
    }
   ],
   "source": [
    "sns.set_style('whitegrid')\n",
    "dia_df['Age'].hist(bins=10)\n",
    "plt.xlabel(\"Age\")"
   ]
  },
  {
   "cell_type": "code",
   "execution_count": 17,
   "id": "bbbdf512",
   "metadata": {
    "execution": {
     "iopub.execute_input": "2024-09-12T05:47:03.639845Z",
     "iopub.status.busy": "2024-09-12T05:47:03.639436Z",
     "iopub.status.idle": "2024-09-12T05:47:04.672166Z",
     "shell.execute_reply": "2024-09-12T05:47:04.670783Z"
    },
    "papermill": {
     "duration": 1.054879,
     "end_time": "2024-09-12T05:47:04.674826",
     "exception": false,
     "start_time": "2024-09-12T05:47:03.619947",
     "status": "completed"
    },
    "tags": []
   },
   "outputs": [
    {
     "name": "stderr",
     "output_type": "stream",
     "text": [
      "/opt/conda/lib/python3.10/site-packages/seaborn/_oldcore.py:1119: FutureWarning: use_inf_as_na option is deprecated and will be removed in a future version. Convert inf values to NaN before operating instead.\n",
      "  with pd.option_context('mode.use_inf_as_na', True):\n",
      "/opt/conda/lib/python3.10/site-packages/seaborn/_oldcore.py:1119: FutureWarning: use_inf_as_na option is deprecated and will be removed in a future version. Convert inf values to NaN before operating instead.\n",
      "  with pd.option_context('mode.use_inf_as_na', True):\n"
     ]
    },
    {
     "data": {
      "text/plain": [
       "<seaborn.axisgrid.JointGrid at 0x7cb80f03bdc0>"
      ]
     },
     "execution_count": 17,
     "metadata": {},
     "output_type": "execute_result"
    },
    {
     "data": {
      "image/png": "[encoded data removed]",
      "text/plain": [
       "<Figure size 600x600 with 3 Axes>"
      ]
     },
     "metadata": {},
     "output_type": "display_data"
    }
   ],
   "source": [
    "sns.jointplot(x='Age',y='Glucose',data=dia_df,color='green')"
   ]
  },
  {
   "cell_type": "code",
   "execution_count": 18,
   "id": "71b85721",
   "metadata": {
    "execution": {
     "iopub.execute_input": "2024-09-12T05:47:04.715966Z",
     "iopub.status.busy": "2024-09-12T05:47:04.715135Z",
     "iopub.status.idle": "2024-09-12T05:47:05.727667Z",
     "shell.execute_reply": "2024-09-12T05:47:05.726584Z"
    },
    "papermill": {
     "duration": 1.035813,
     "end_time": "2024-09-12T05:47:05.730175",
     "exception": false,
     "start_time": "2024-09-12T05:47:04.694362",
     "status": "completed"
    },
    "tags": []
   },
   "outputs": [
    {
     "name": "stderr",
     "output_type": "stream",
     "text": [
      "/opt/conda/lib/python3.10/site-packages/seaborn/_oldcore.py:1119: FutureWarning: use_inf_as_na option is deprecated and will be removed in a future version. Convert inf values to NaN before operating instead.\n",
      "  with pd.option_context('mode.use_inf_as_na', True):\n",
      "/opt/conda/lib/python3.10/site-packages/seaborn/_oldcore.py:1119: FutureWarning: use_inf_as_na option is deprecated and will be removed in a future version. Convert inf values to NaN before operating instead.\n",
      "  with pd.option_context('mode.use_inf_as_na', True):\n"
     ]
    },
    {
     "data": {
      "text/plain": [
       "<seaborn.axisgrid.JointGrid at 0x7cb80eecb610>"
      ]
     },
     "execution_count": 18,
     "metadata": {},
     "output_type": "execute_result"
    },
    {
     "data": {
      "image/png": "[encoded data removed]",
      "text/plain": [
       "<Figure size 600x600 with 3 Axes>"
      ]
     },
     "metadata": {},
     "output_type": "display_data"
    }
   ],
   "source": [
    "sns.jointplot(x='BloodPressure',y='Glucose',data=dia_df,color='red')"
   ]
  },
  {
   "cell_type": "code",
   "execution_count": 19,
   "id": "4435d2ec",
   "metadata": {
    "execution": {
     "iopub.execute_input": "2024-09-12T05:47:05.774985Z",
     "iopub.status.busy": "2024-09-12T05:47:05.774542Z",
     "iopub.status.idle": "2024-09-12T05:47:05.781918Z",
     "shell.execute_reply": "2024-09-12T05:47:05.780828Z"
    },
    "papermill": {
     "duration": 0.032757,
     "end_time": "2024-09-12T05:47:05.784330",
     "exception": false,
     "start_time": "2024-09-12T05:47:05.751573",
     "status": "completed"
    },
    "tags": []
   },
   "outputs": [
    {
     "data": {
      "text/plain": [
       "Index(['Pregnancies', 'Glucose', 'BloodPressure', 'SkinThickness', 'Insulin',\n",
       "       'BMI', 'DiabetesPedigreeFunction', 'Age', 'Outcome'],\n",
       "      dtype='object')"
      ]
     },
     "execution_count": 19,
     "metadata": {},
     "output_type": "execute_result"
    }
   ],
   "source": [
    "dia_df.columns"
   ]
  },
  {
   "cell_type": "code",
   "execution_count": 20,
   "id": "9c9ef23f",
   "metadata": {
    "execution": {
     "iopub.execute_input": "2024-09-12T05:47:05.827998Z",
     "iopub.status.busy": "2024-09-12T05:47:05.827568Z",
     "iopub.status.idle": "2024-09-12T05:47:06.094734Z",
     "shell.execute_reply": "2024-09-12T05:47:06.093607Z"
    },
    "papermill": {
     "duration": 0.292158,
     "end_time": "2024-09-12T05:47:06.097389",
     "exception": false,
     "start_time": "2024-09-12T05:47:05.805231",
     "status": "completed"
    },
    "tags": []
   },
   "outputs": [],
   "source": [
    "from sklearn.model_selection import train_test_split"
   ]
  },
  {
   "cell_type": "code",
   "execution_count": 21,
   "id": "959ab7d0",
   "metadata": {
    "execution": {
     "iopub.execute_input": "2024-09-12T05:47:06.140929Z",
     "iopub.status.busy": "2024-09-12T05:47:06.140169Z",
     "iopub.status.idle": "2024-09-12T05:47:06.147012Z",
     "shell.execute_reply": "2024-09-12T05:47:06.145955Z"
    },
    "papermill": {
     "duration": 0.031429,
     "end_time": "2024-09-12T05:47:06.149600",
     "exception": false,
     "start_time": "2024-09-12T05:47:06.118171",
     "status": "completed"
    },
    "tags": []
   },
   "outputs": [],
   "source": [
    "X = dia_df[['Pregnancies', 'Glucose', 'BloodPressure', 'SkinThickness', 'Insulin',\n",
    "       'BMI', 'DiabetesPedigreeFunction', 'Age']]\n",
    "\n",
    "y = dia_df['Outcome']"
   ]
  },
  {
   "cell_type": "code",
   "execution_count": 22,
   "id": "240bf31d",
   "metadata": {
    "execution": {
     "iopub.execute_input": "2024-09-12T05:47:06.194562Z",
     "iopub.status.busy": "2024-09-12T05:47:06.194149Z",
     "iopub.status.idle": "2024-09-12T05:47:06.298354Z",
     "shell.execute_reply": "2024-09-12T05:47:06.297476Z"
    },
    "papermill": {
     "duration": 0.128996,
     "end_time": "2024-09-12T05:47:06.301059",
     "exception": false,
     "start_time": "2024-09-12T05:47:06.172063",
     "status": "completed"
    },
    "tags": []
   },
   "outputs": [],
   "source": [
    "from sklearn.linear_model import LogisticRegression"
   ]
  },
  {
   "cell_type": "code",
   "execution_count": 23,
   "id": "30ad70d0",
   "metadata": {
    "execution": {
     "iopub.execute_input": "2024-09-12T05:47:06.345256Z",
     "iopub.status.busy": "2024-09-12T05:47:06.344825Z",
     "iopub.status.idle": "2024-09-12T05:47:06.354531Z",
     "shell.execute_reply": "2024-09-12T05:47:06.353657Z"
    },
    "papermill": {
     "duration": 0.034087,
     "end_time": "2024-09-12T05:47:06.356858",
     "exception": false,
     "start_time": "2024-09-12T05:47:06.322771",
     "status": "completed"
    },
    "tags": []
   },
   "outputs": [],
   "source": [
    "X_train, X_test, y_train, y_test = train_test_split(X, y, test_size=0.3, random_state=101)"
   ]
  },
  {
   "cell_type": "code",
   "execution_count": 24,
   "id": "baf2c877",
   "metadata": {
    "execution": {
     "iopub.execute_input": "2024-09-12T05:47:06.400831Z",
     "iopub.status.busy": "2024-09-12T05:47:06.399816Z",
     "iopub.status.idle": "2024-09-12T05:47:06.443655Z",
     "shell.execute_reply": "2024-09-12T05:47:06.442444Z"
    },
    "papermill": {
     "duration": 0.068371,
     "end_time": "2024-09-12T05:47:06.446267",
     "exception": false,
     "start_time": "2024-09-12T05:47:06.377896",
     "status": "completed"
    },
    "tags": []
   },
   "outputs": [
    {
     "name": "stderr",
     "output_type": "stream",
     "text": [
      "/opt/conda/lib/python3.10/site-packages/sklearn/linear_model/_logistic.py:458: ConvergenceWarning: lbfgs failed to converge (status=1):\n",
      "STOP: TOTAL NO. of ITERATIONS REACHED LIMIT.\n",
      "\n",
      "Increase the number of iterations (max_iter) or scale the data as shown in:\n",
      "    https://scikit-learn.org/stable/modules/preprocessing.html\n",
      "Please also refer to the documentation for alternative solver options:\n",
      "    https://scikit-learn.org/stable/modules/linear_model.html#logistic-regression\n",
      "  n_iter_i = _check_optimize_result(\n"
     ]
    },
    {
     "data": {
      "text/html": [
       "<style>#sk-container-id-1 {color: black;background-color: white;}#sk-container-id-1 pre{padding: 0;}#sk-container-id-1 div.sk-toggleable {background-color: white;}#sk-container-id-1 label.sk-toggleable__label {cursor: pointer;display: block;width: 100%;margin-bottom: 0;padding: 0.3em;box-sizing: border-box;text-align: center;}#sk-container-id-1 label.sk-toggleable__label-arrow:before {content: \"▸\";float: left;margin-right: 0.25em;color: #696969;}#sk-container-id-1 label.sk-toggleable__label-arrow:hover:before {color: black;}#sk-container-id-1 div.sk-estimator:hover label.sk-toggleable__label-arrow:before {color: black;}#sk-container-id-1 div.sk-toggleable__content {max-height: 0;max-width: 0;overflow: hidden;text-align: left;background-color: #f0f8ff;}#sk-container-id-1 div.sk-toggleable__content pre {margin: 0.2em;color: black;border-radius: 0.25em;background-color: #f0f8ff;}#sk-container-id-1 input.sk-toggleable__control:checked~div.sk-toggleable__content {max-height: 200px;max-width: 100%;overflow: auto;}#sk-container-id-1 input.sk-toggleable__control:checked~label.sk-toggleable__label-arrow:before {content: \"▾\";}#sk-container-id-1 div.sk-estimator input.sk-toggleable__control:checked~label.sk-toggleable__label {background-color: #d4ebff;}#sk-container-id-1 div.sk-label input.sk-toggleable__control:checked~label.sk-toggleable__label {background-color: #d4ebff;}#sk-container-id-1 input.sk-hidden--visually {border: 0;clip: rect(1px 1px 1px 1px);clip: rect(1px, 1px, 1px, 1px);height: 1px;margin: -1px;overflow: hidden;padding: 0;position: absolute;width: 1px;}#sk-container-id-1 div.sk-estimator {font-family: monospace;background-color: #f0f8ff;border: 1px dotted black;border-radius: 0.25em;box-sizing: border-box;margin-bottom: 0.5em;}#sk-container-id-1 div.sk-estimator:hover {background-color: #d4ebff;}#sk-container-id-1 div.sk-parallel-item::after {content: \"\";width: 100%;border-bottom: 1px solid gray;flex-grow: 1;}#sk-container-id-1 div.sk-label:hover label.sk-toggleable__label {background-color: #d4ebff;}#sk-container-id-1 div.sk-serial::before {content: \"\";position: absolute;border-left: 1px solid gray;box-sizing: border-box;top: 0;bottom: 0;left: 50%;z-index: 0;}#sk-container-id-1 div.sk-serial {display: flex;flex-direction: column;align-items: center;background-color: white;padding-right: 0.2em;padding-left: 0.2em;position: relative;}#sk-container-id-1 div.sk-item {position: relative;z-index: 1;}#sk-container-id-1 div.sk-parallel {display: flex;align-items: stretch;justify-content: center;background-color: white;position: relative;}#sk-container-id-1 div.sk-item::before, #sk-container-id-1 div.sk-parallel-item::before {content: \"\";position: absolute;border-left: 1px solid gray;box-sizing: border-box;top: 0;bottom: 0;left: 50%;z-index: -1;}#sk-container-id-1 div.sk-parallel-item {display: flex;flex-direction: column;z-index: 1;position: relative;background-color: white;}#sk-container-id-1 div.sk-parallel-item:first-child::after {align-self: flex-end;width: 50%;}#sk-container-id-1 div.sk-parallel-item:last-child::after {align-self: flex-start;width: 50%;}#sk-container-id-1 div.sk-parallel-item:only-child::after {width: 0;}#sk-container-id-1 div.sk-dashed-wrapped {border: 1px dashed gray;margin: 0 0.4em 0.5em 0.4em;box-sizing: border-box;padding-bottom: 0.4em;background-color: white;}#sk-container-id-1 div.sk-label label {font-family: monospace;font-weight: bold;display: inline-block;line-height: 1.2em;}#sk-container-id-1 div.sk-label-container {text-align: center;}#sk-container-id-1 div.sk-container {/* jupyter's `normalize.less` sets `[hidden] { display: none; }` but bootstrap.min.css set `[hidden] { display: none !important; }` so we also need the `!important` here to be able to override the default hidden behavior on the sphinx rendered scikit-learn.org. See: https://github.com/scikit-learn/scikit-learn/issues/21755 */display: inline-block !important;position: relative;}#sk-container-id-1 div.sk-text-repr-fallback {display: none;}</style><div id=\"sk-container-id-1\" class=\"sk-top-container\"><div class=\"sk-text-repr-fallback\"><pre>LogisticRegression()</pre><b>In a Jupyter environment, please rerun this cell to show the HTML representation or trust the notebook. <br />On GitHub, the HTML representation is unable to render, please try loading this page with nbviewer.org.</b></div><div class=\"sk-container\" hidden><div class=\"sk-item\"><div class=\"sk-estimator sk-toggleable\"><input class=\"sk-toggleable__control sk-hidden--visually\" id=\"sk-estimator-id-1\" type=\"checkbox\" checked><label for=\"sk-estimator-id-1\" class=\"sk-toggleable__label sk-toggleable__label-arrow\">LogisticRegression</label><div class=\"sk-toggleable__content\"><pre>LogisticRegression()</pre></div></div></div></div></div>"
      ],
      "text/plain": [
       "LogisticRegression()"
      ]
     },
     "execution_count": 24,
     "metadata": {},
     "output_type": "execute_result"
    }
   ],
   "source": [
    "logmodel = LogisticRegression()\n",
    "logmodel.fit(X_train,y_train)"
   ]
  },
  {
   "cell_type": "markdown",
   "id": "f75d8eb8",
   "metadata": {
    "papermill": {
     "duration": 0.021331,
     "end_time": "2024-09-12T05:47:06.490054",
     "exception": false,
     "start_time": "2024-09-12T05:47:06.468723",
     "status": "completed"
    },
    "tags": []
   },
   "source": [
    "**Predictions and Evaluation**"
   ]
  },
  {
   "cell_type": "code",
   "execution_count": 25,
   "id": "d80d2768",
   "metadata": {
    "execution": {
     "iopub.execute_input": "2024-09-12T05:47:06.535179Z",
     "iopub.status.busy": "2024-09-12T05:47:06.534787Z",
     "iopub.status.idle": "2024-09-12T05:47:06.541392Z",
     "shell.execute_reply": "2024-09-12T05:47:06.540470Z"
    },
    "papermill": {
     "duration": 0.031702,
     "end_time": "2024-09-12T05:47:06.543668",
     "exception": false,
     "start_time": "2024-09-12T05:47:06.511966",
     "status": "completed"
    },
    "tags": []
   },
   "outputs": [],
   "source": [
    "predictions = logmodel.predict(X_test)"
   ]
  },
  {
   "cell_type": "code",
   "execution_count": 26,
   "id": "a987520c",
   "metadata": {
    "execution": {
     "iopub.execute_input": "2024-09-12T05:47:06.588821Z",
     "iopub.status.busy": "2024-09-12T05:47:06.588000Z",
     "iopub.status.idle": "2024-09-12T05:47:06.592849Z",
     "shell.execute_reply": "2024-09-12T05:47:06.591886Z"
    },
    "papermill": {
     "duration": 0.029944,
     "end_time": "2024-09-12T05:47:06.595075",
     "exception": false,
     "start_time": "2024-09-12T05:47:06.565131",
     "status": "completed"
    },
    "tags": []
   },
   "outputs": [],
   "source": [
    "from sklearn.metrics import classification_report"
   ]
  },
  {
   "cell_type": "code",
   "execution_count": 27,
   "id": "bfdab387",
   "metadata": {
    "execution": {
     "iopub.execute_input": "2024-09-12T05:47:06.640701Z",
     "iopub.status.busy": "2024-09-12T05:47:06.640288Z",
     "iopub.status.idle": "2024-09-12T05:47:06.655627Z",
     "shell.execute_reply": "2024-09-12T05:47:06.654379Z"
    },
    "papermill": {
     "duration": 0.041224,
     "end_time": "2024-09-12T05:47:06.657997",
     "exception": false,
     "start_time": "2024-09-12T05:47:06.616773",
     "status": "completed"
    },
    "tags": []
   },
   "outputs": [
    {
     "name": "stdout",
     "output_type": "stream",
     "text": [
      "              precision    recall  f1-score   support\n",
      "\n",
      "           0       0.79      0.88      0.83       150\n",
      "           1       0.72      0.57      0.63        81\n",
      "\n",
      "    accuracy                           0.77       231\n",
      "   macro avg       0.75      0.72      0.73       231\n",
      "weighted avg       0.77      0.77      0.76       231\n",
      "\n"
     ]
    }
   ],
   "source": [
    "print(classification_report(y_test,predictions))"
   ]
  },
  {
   "cell_type": "markdown",
   "id": "7e313625",
   "metadata": {
    "papermill": {
     "duration": 0.02112,
     "end_time": "2024-09-12T05:47:06.700952",
     "exception": false,
     "start_time": "2024-09-12T05:47:06.679832",
     "status": "completed"
    },
    "tags": []
   },
   "source": [
    "**KNN Method**"
   ]
  },
  {
   "cell_type": "code",
   "execution_count": 28,
   "id": "b57e85d2",
   "metadata": {
    "execution": {
     "iopub.execute_input": "2024-09-12T05:47:06.745992Z",
     "iopub.status.busy": "2024-09-12T05:47:06.745237Z",
     "iopub.status.idle": "2024-09-12T05:47:06.750187Z",
     "shell.execute_reply": "2024-09-12T05:47:06.749149Z"
    },
    "papermill": {
     "duration": 0.029916,
     "end_time": "2024-09-12T05:47:06.752526",
     "exception": false,
     "start_time": "2024-09-12T05:47:06.722610",
     "status": "completed"
    },
    "tags": []
   },
   "outputs": [],
   "source": [
    "from sklearn.preprocessing import StandardScaler"
   ]
  },
  {
   "cell_type": "code",
   "execution_count": 29,
   "id": "7011cb33",
   "metadata": {
    "execution": {
     "iopub.execute_input": "2024-09-12T05:47:06.797292Z",
     "iopub.status.busy": "2024-09-12T05:47:06.796859Z",
     "iopub.status.idle": "2024-09-12T05:47:06.801718Z",
     "shell.execute_reply": "2024-09-12T05:47:06.800671Z"
    },
    "papermill": {
     "duration": 0.030402,
     "end_time": "2024-09-12T05:47:06.804041",
     "exception": false,
     "start_time": "2024-09-12T05:47:06.773639",
     "status": "completed"
    },
    "tags": []
   },
   "outputs": [],
   "source": [
    "scaler = StandardScaler()"
   ]
  },
  {
   "cell_type": "code",
   "execution_count": 30,
   "id": "e920b5bd",
   "metadata": {
    "execution": {
     "iopub.execute_input": "2024-09-12T05:47:06.851221Z",
     "iopub.status.busy": "2024-09-12T05:47:06.850321Z",
     "iopub.status.idle": "2024-09-12T05:47:06.861827Z",
     "shell.execute_reply": "2024-09-12T05:47:06.860852Z"
    },
    "papermill": {
     "duration": 0.038,
     "end_time": "2024-09-12T05:47:06.864179",
     "exception": false,
     "start_time": "2024-09-12T05:47:06.826179",
     "status": "completed"
    },
    "tags": []
   },
   "outputs": [
    {
     "data": {
      "text/html": [
       "<style>#sk-container-id-2 {color: black;background-color: white;}#sk-container-id-2 pre{padding: 0;}#sk-container-id-2 div.sk-toggleable {background-color: white;}#sk-container-id-2 label.sk-toggleable__label {cursor: pointer;display: block;width: 100%;margin-bottom: 0;padding: 0.3em;box-sizing: border-box;text-align: center;}#sk-container-id-2 label.sk-toggleable__label-arrow:before {content: \"▸\";float: left;margin-right: 0.25em;color: #696969;}#sk-container-id-2 label.sk-toggleable__label-arrow:hover:before {color: black;}#sk-container-id-2 div.sk-estimator:hover label.sk-toggleable__label-arrow:before {color: black;}#sk-container-id-2 div.sk-toggleable__content {max-height: 0;max-width: 0;overflow: hidden;text-align: left;background-color: #f0f8ff;}#sk-container-id-2 div.sk-toggleable__content pre {margin: 0.2em;color: black;border-radius: 0.25em;background-color: #f0f8ff;}#sk-container-id-2 input.sk-toggleable__control:checked~div.sk-toggleable__content {max-height: 200px;max-width: 100%;overflow: auto;}#sk-container-id-2 input.sk-toggleable__control:checked~label.sk-toggleable__label-arrow:before {content: \"▾\";}#sk-container-id-2 div.sk-estimator input.sk-toggleable__control:checked~label.sk-toggleable__label {background-color: #d4ebff;}#sk-container-id-2 div.sk-label input.sk-toggleable__control:checked~label.sk-toggleable__label {background-color: #d4ebff;}#sk-container-id-2 input.sk-hidden--visually {border: 0;clip: rect(1px 1px 1px 1px);clip: rect(1px, 1px, 1px, 1px);height: 1px;margin: -1px;overflow: hidden;padding: 0;position: absolute;width: 1px;}#sk-container-id-2 div.sk-estimator {font-family: monospace;background-color: #f0f8ff;border: 1px dotted black;border-radius: 0.25em;box-sizing: border-box;margin-bottom: 0.5em;}#sk-container-id-2 div.sk-estimator:hover {background-color: #d4ebff;}#sk-container-id-2 div.sk-parallel-item::after {content: \"\";width: 100%;border-bottom: 1px solid gray;flex-grow: 1;}#sk-container-id-2 div.sk-label:hover label.sk-toggleable__label {background-color: #d4ebff;}#sk-container-id-2 div.sk-serial::before {content: \"\";position: absolute;border-left: 1px solid gray;box-sizing: border-box;top: 0;bottom: 0;left: 50%;z-index: 0;}#sk-container-id-2 div.sk-serial {display: flex;flex-direction: column;align-items: center;background-color: white;padding-right: 0.2em;padding-left: 0.2em;position: relative;}#sk-container-id-2 div.sk-item {position: relative;z-index: 1;}#sk-container-id-2 div.sk-parallel {display: flex;align-items: stretch;justify-content: center;background-color: white;position: relative;}#sk-container-id-2 div.sk-item::before, #sk-container-id-2 div.sk-parallel-item::before {content: \"\";position: absolute;border-left: 1px solid gray;box-sizing: border-box;top: 0;bottom: 0;left: 50%;z-index: -1;}#sk-container-id-2 div.sk-parallel-item {display: flex;flex-direction: column;z-index: 1;position: relative;background-color: white;}#sk-container-id-2 div.sk-parallel-item:first-child::after {align-self: flex-end;width: 50%;}#sk-container-id-2 div.sk-parallel-item:last-child::after {align-self: flex-start;width: 50%;}#sk-container-id-2 div.sk-parallel-item:only-child::after {width: 0;}#sk-container-id-2 div.sk-dashed-wrapped {border: 1px dashed gray;margin: 0 0.4em 0.5em 0.4em;box-sizing: border-box;padding-bottom: 0.4em;background-color: white;}#sk-container-id-2 div.sk-label label {font-family: monospace;font-weight: bold;display: inline-block;line-height: 1.2em;}#sk-container-id-2 div.sk-label-container {text-align: center;}#sk-container-id-2 div.sk-container {/* jupyter's `normalize.less` sets `[hidden] { display: none; }` but bootstrap.min.css set `[hidden] { display: none !important; }` so we also need the `!important` here to be able to override the default hidden behavior on the sphinx rendered scikit-learn.org. See: https://github.com/scikit-learn/scikit-learn/issues/21755 */display: inline-block !important;position: relative;}#sk-container-id-2 div.sk-text-repr-fallback {display: none;}</style><div id=\"sk-container-id-2\" class=\"sk-top-container\"><div class=\"sk-text-repr-fallback\"><pre>StandardScaler()</pre><b>In a Jupyter environment, please rerun this cell to show the HTML representation or trust the notebook. <br />On GitHub, the HTML representation is unable to render, please try loading this page with nbviewer.org.</b></div><div class=\"sk-container\" hidden><div class=\"sk-item\"><div class=\"sk-estimator sk-toggleable\"><input class=\"sk-toggleable__control sk-hidden--visually\" id=\"sk-estimator-id-2\" type=\"checkbox\" checked><label for=\"sk-estimator-id-2\" class=\"sk-toggleable__label sk-toggleable__label-arrow\">StandardScaler</label><div class=\"sk-toggleable__content\"><pre>StandardScaler()</pre></div></div></div></div></div>"
      ],
      "text/plain": [
       "StandardScaler()"
      ]
     },
     "execution_count": 30,
     "metadata": {},
     "output_type": "execute_result"
    }
   ],
   "source": [
    "scaler.fit(dia_df.drop('Outcome',axis=1))"
   ]
  },
  {
   "cell_type": "code",
   "execution_count": 31,
   "id": "eb7b769f",
   "metadata": {
    "execution": {
     "iopub.execute_input": "2024-09-12T05:47:06.910211Z",
     "iopub.status.busy": "2024-09-12T05:47:06.909799Z",
     "iopub.status.idle": "2024-09-12T05:47:06.919237Z",
     "shell.execute_reply": "2024-09-12T05:47:06.918300Z"
    },
    "papermill": {
     "duration": 0.035559,
     "end_time": "2024-09-12T05:47:06.921553",
     "exception": false,
     "start_time": "2024-09-12T05:47:06.885994",
     "status": "completed"
    },
    "tags": []
   },
   "outputs": [],
   "source": [
    "scaled_features = scaler.transform(dia_df.drop('Outcome',axis=1))"
   ]
  },
  {
   "cell_type": "code",
   "execution_count": 32,
   "id": "0799741a",
   "metadata": {
    "execution": {
     "iopub.execute_input": "2024-09-12T05:47:06.966937Z",
     "iopub.status.busy": "2024-09-12T05:47:06.966510Z",
     "iopub.status.idle": "2024-09-12T05:47:06.983349Z",
     "shell.execute_reply": "2024-09-12T05:47:06.982248Z"
    },
    "papermill": {
     "duration": 0.04234,
     "end_time": "2024-09-12T05:47:06.985719",
     "exception": false,
     "start_time": "2024-09-12T05:47:06.943379",
     "status": "completed"
    },
    "tags": []
   },
   "outputs": [
    {
     "data": {
      "text/html": [
       "<div>\n",
       "<style scoped>\n",
       "    .dataframe tbody tr th:only-of-type {\n",
       "        vertical-align: middle;\n",
       "    }\n",
       "\n",
       "    .dataframe tbody tr th {\n",
       "        vertical-align: top;\n",
       "    }\n",
       "\n",
       "    .dataframe thead th {\n",
       "        text-align: right;\n",
       "    }\n",
       "</style>\n",
       "<table border=\"1\" class=\"dataframe\">\n",
       "  <thead>\n",
       "    <tr style=\"text-align: right;\">\n",
       "      <th></th>\n",
       "      <th>Pregnancies</th>\n",
       "      <th>Glucose</th>\n",
       "      <th>BloodPressure</th>\n",
       "      <th>SkinThickness</th>\n",
       "      <th>Insulin</th>\n",
       "      <th>BMI</th>\n",
       "      <th>DiabetesPedigreeFunction</th>\n",
       "      <th>Age</th>\n",
       "    </tr>\n",
       "  </thead>\n",
       "  <tbody>\n",
       "    <tr>\n",
       "      <th>0</th>\n",
       "      <td>0.639947</td>\n",
       "      <td>0.867483</td>\n",
       "      <td>-0.003554</td>\n",
       "      <td>-0.250146</td>\n",
       "      <td>-0.484753</td>\n",
       "      <td>0.087111</td>\n",
       "      <td>0.468492</td>\n",
       "      <td>1.425995</td>\n",
       "    </tr>\n",
       "    <tr>\n",
       "      <th>1</th>\n",
       "      <td>-0.844885</td>\n",
       "      <td>-1.180479</td>\n",
       "      <td>-0.495303</td>\n",
       "      <td>-0.577080</td>\n",
       "      <td>-0.484753</td>\n",
       "      <td>-0.804264</td>\n",
       "      <td>-0.365061</td>\n",
       "      <td>-0.190672</td>\n",
       "    </tr>\n",
       "    <tr>\n",
       "      <th>2</th>\n",
       "      <td>1.233880</td>\n",
       "      <td>2.005240</td>\n",
       "      <td>-0.659219</td>\n",
       "      <td>1.355409</td>\n",
       "      <td>-0.484753</td>\n",
       "      <td>-1.224483</td>\n",
       "      <td>0.604397</td>\n",
       "      <td>-0.105584</td>\n",
       "    </tr>\n",
       "    <tr>\n",
       "      <th>3</th>\n",
       "      <td>-0.844885</td>\n",
       "      <td>-1.050449</td>\n",
       "      <td>-0.495303</td>\n",
       "      <td>-0.904014</td>\n",
       "      <td>-0.178361</td>\n",
       "      <td>-0.613255</td>\n",
       "      <td>-0.920763</td>\n",
       "      <td>-1.041549</td>\n",
       "    </tr>\n",
       "    <tr>\n",
       "      <th>4</th>\n",
       "      <td>-1.141852</td>\n",
       "      <td>0.509902</td>\n",
       "      <td>-2.626215</td>\n",
       "      <td>-0.250146</td>\n",
       "      <td>0.589322</td>\n",
       "      <td>1.296834</td>\n",
       "      <td>5.484909</td>\n",
       "      <td>-0.020496</td>\n",
       "    </tr>\n",
       "  </tbody>\n",
       "</table>\n",
       "</div>"
      ],
      "text/plain": [
       "   Pregnancies   Glucose  BloodPressure  SkinThickness   Insulin       BMI  \\\n",
       "0     0.639947  0.867483      -0.003554      -0.250146 -0.484753  0.087111   \n",
       "1    -0.844885 -1.180479      -0.495303      -0.577080 -0.484753 -0.804264   \n",
       "2     1.233880  2.005240      -0.659219       1.355409 -0.484753 -1.224483   \n",
       "3    -0.844885 -1.050449      -0.495303      -0.904014 -0.178361 -0.613255   \n",
       "4    -1.141852  0.509902      -2.626215      -0.250146  0.589322  1.296834   \n",
       "\n",
       "   DiabetesPedigreeFunction       Age  \n",
       "0                  0.468492  1.425995  \n",
       "1                 -0.365061 -0.190672  \n",
       "2                  0.604397 -0.105584  \n",
       "3                 -0.920763 -1.041549  \n",
       "4                  5.484909 -0.020496  "
      ]
     },
     "execution_count": 32,
     "metadata": {},
     "output_type": "execute_result"
    }
   ],
   "source": [
    "dia_df = pd.DataFrame(scaled_features,columns=dia_df.columns[:-1])\n",
    "dia_df.head()"
   ]
  },
  {
   "cell_type": "markdown",
   "id": "b9254904",
   "metadata": {
    "papermill": {
     "duration": 0.021729,
     "end_time": "2024-09-12T05:47:07.029371",
     "exception": false,
     "start_time": "2024-09-12T05:47:07.007642",
     "status": "completed"
    },
    "tags": []
   },
   "source": [
    "**Train and Test Split**"
   ]
  },
  {
   "cell_type": "code",
   "execution_count": 33,
   "id": "425df725",
   "metadata": {
    "execution": {
     "iopub.execute_input": "2024-09-12T05:47:07.076467Z",
     "iopub.status.busy": "2024-09-12T05:47:07.075406Z",
     "iopub.status.idle": "2024-09-12T05:47:07.084572Z",
     "shell.execute_reply": "2024-09-12T05:47:07.083097Z"
    },
    "papermill": {
     "duration": 0.035639,
     "end_time": "2024-09-12T05:47:07.086969",
     "exception": false,
     "start_time": "2024-09-12T05:47:07.051330",
     "status": "completed"
    },
    "tags": []
   },
   "outputs": [],
   "source": [
    "X_train, X_test, y_train, y_test = train_test_split(X, y, test_size=0.3, random_state=101)"
   ]
  },
  {
   "cell_type": "markdown",
   "id": "27a38d60",
   "metadata": {
    "papermill": {
     "duration": 0.022126,
     "end_time": "2024-09-12T05:47:07.185334",
     "exception": false,
     "start_time": "2024-09-12T05:47:07.163208",
     "status": "completed"
    },
    "tags": []
   },
   "source": [
    "**Using KNN**"
   ]
  },
  {
   "cell_type": "code",
   "execution_count": 34,
   "id": "a326df01",
   "metadata": {
    "execution": {
     "iopub.execute_input": "2024-09-12T05:47:07.232227Z",
     "iopub.status.busy": "2024-09-12T05:47:07.231215Z",
     "iopub.status.idle": "2024-09-12T05:47:07.304775Z",
     "shell.execute_reply": "2024-09-12T05:47:07.303614Z"
    },
    "papermill": {
     "duration": 0.099843,
     "end_time": "2024-09-12T05:47:07.307559",
     "exception": false,
     "start_time": "2024-09-12T05:47:07.207716",
     "status": "completed"
    },
    "tags": []
   },
   "outputs": [],
   "source": [
    "from sklearn.neighbors import KNeighborsClassifier\n"
   ]
  },
  {
   "cell_type": "code",
   "execution_count": 35,
   "id": "27930092",
   "metadata": {
    "execution": {
     "iopub.execute_input": "2024-09-12T05:47:07.354625Z",
     "iopub.status.busy": "2024-09-12T05:47:07.353778Z",
     "iopub.status.idle": "2024-09-12T05:47:08.194785Z",
     "shell.execute_reply": "2024-09-12T05:47:08.193735Z"
    },
    "papermill": {
     "duration": 0.867447,
     "end_time": "2024-09-12T05:47:08.197750",
     "exception": false,
     "start_time": "2024-09-12T05:47:07.330303",
     "status": "completed"
    },
    "tags": []
   },
   "outputs": [],
   "source": [
    "error_rate = []\n",
    "\n",
    "# Will take some time\n",
    "for i in range(1,40):\n",
    "    \n",
    "    knn = KNeighborsClassifier(n_neighbors=i)\n",
    "    knn.fit(X_train,y_train)\n",
    "    pred_i = knn.predict(X_test)\n",
    "    error_rate.append(np.mean(pred_i != y_test))"
   ]
  },
  {
   "cell_type": "markdown",
   "id": "40274e1e",
   "metadata": {
    "papermill": {
     "duration": 0.022288,
     "end_time": "2024-09-12T05:47:08.242748",
     "exception": false,
     "start_time": "2024-09-12T05:47:08.220460",
     "status": "completed"
    },
    "tags": []
   },
   "source": [
    "finding k using the elbow method"
   ]
  },
  {
   "cell_type": "code",
   "execution_count": 36,
   "id": "4332ab53",
   "metadata": {
    "execution": {
     "iopub.execute_input": "2024-09-12T05:47:08.290093Z",
     "iopub.status.busy": "2024-09-12T05:47:08.289071Z",
     "iopub.status.idle": "2024-09-12T05:47:08.730477Z",
     "shell.execute_reply": "2024-09-12T05:47:08.729290Z"
    },
    "papermill": {
     "duration": 0.467856,
     "end_time": "2024-09-12T05:47:08.733046",
     "exception": false,
     "start_time": "2024-09-12T05:47:08.265190",
     "status": "completed"
    },
    "tags": []
   },
   "outputs": [
    {
     "data": {
      "text/plain": [
       "Text(0, 0.5, 'Error Rate')"
      ]
     },
     "execution_count": 36,
     "metadata": {},
     "output_type": "execute_result"
    },
    {
     "data": {
      "image/png": "[encoded data removed]",
      "text/plain": [
       "<Figure size 1000x600 with 1 Axes>"
      ]
     },
     "metadata": {},
     "output_type": "display_data"
    }
   ],
   "source": [
    "plt.figure(figsize=(10,6))\n",
    "plt.plot(range(1,40),error_rate,color='blue', linestyle='dashed', marker='o',\n",
    "         markerfacecolor='red', markersize=10)\n",
    "plt.title('Error Rate vs. K Value')\n",
    "plt.xlabel('K')\n",
    "plt.ylabel('Error Rate')"
   ]
  },
  {
   "cell_type": "code",
   "execution_count": 37,
   "id": "a4933086",
   "metadata": {
    "execution": {
     "iopub.execute_input": "2024-09-12T05:47:08.780967Z",
     "iopub.status.busy": "2024-09-12T05:47:08.780552Z",
     "iopub.status.idle": "2024-09-12T05:47:08.785762Z",
     "shell.execute_reply": "2024-09-12T05:47:08.784643Z"
    },
    "papermill": {
     "duration": 0.032076,
     "end_time": "2024-09-12T05:47:08.788194",
     "exception": false,
     "start_time": "2024-09-12T05:47:08.756118",
     "status": "completed"
    },
    "tags": []
   },
   "outputs": [],
   "source": [
    "from sklearn.metrics import classification_report,confusion_matrix"
   ]
  },
  {
   "cell_type": "code",
   "execution_count": 38,
   "id": "061276fb",
   "metadata": {
    "execution": {
     "iopub.execute_input": "2024-09-12T05:47:08.836605Z",
     "iopub.status.busy": "2024-09-12T05:47:08.835613Z",
     "iopub.status.idle": "2024-09-12T05:47:08.874790Z",
     "shell.execute_reply": "2024-09-12T05:47:08.873559Z"
    },
    "papermill": {
     "duration": 0.065744,
     "end_time": "2024-09-12T05:47:08.877315",
     "exception": false,
     "start_time": "2024-09-12T05:47:08.811571",
     "status": "completed"
    },
    "tags": []
   },
   "outputs": [
    {
     "name": "stdout",
     "output_type": "stream",
     "text": [
      "WITH K=20\n",
      "\n",
      "\n",
      "[[131  19]\n",
      " [ 42  39]]\n",
      "\n",
      "\n",
      "              precision    recall  f1-score   support\n",
      "\n",
      "           0       0.76      0.87      0.81       150\n",
      "           1       0.67      0.48      0.56        81\n",
      "\n",
      "    accuracy                           0.74       231\n",
      "   macro avg       0.71      0.68      0.69       231\n",
      "weighted avg       0.73      0.74      0.72       231\n",
      "\n"
     ]
    }
   ],
   "source": [
    "knn = KNeighborsClassifier(n_neighbors=18)\n",
    "\n",
    "knn.fit(X_train,y_train)\n",
    "pred = knn.predict(X_test)\n",
    "\n",
    "print('WITH K=20')\n",
    "print('\\n')\n",
    "print(confusion_matrix(y_test,pred))\n",
    "print('\\n')\n",
    "print(classification_report(y_test,pred))"
   ]
  }
 ],
 "metadata": {
  "kaggle": {
   "accelerator": "none",
   "dataSources": [
    {
     "datasetId": 1956887,
     "sourceId": 3226898,
     "sourceType": "datasetVersion"
    }
   ],
   "dockerImageVersionId": 30761,
   "isGpuEnabled": false,
   "isInternetEnabled": false,
   "language": "python",
   "sourceType": "notebook"
  },
  "kernelspec": {
   "display_name": "Python 3",
   "language": "python",
   "name": "python3"
  },
  "language_info": {
   "codemirror_mode": {
    "name": "ipython",
    "version": 3
   },
   "file_extension": ".py",
   "mimetype": "text/x-python",
   "name": "python",
   "nbconvert_exporter": "python",
   "pygments_lexer": "ipython3",
   "version": "3.10.14"
  },
  "papermill": {
   "default_parameters": {},
   "duration": 15.831317,
   "end_time": "2024-09-12T05:47:09.621169",
   "environment_variables": {},
   "exception": null,
   "input_path": "__notebook__.ipynb",
   "output_path": "__notebook__.ipynb",
   "parameters": {},
   "start_time": "2024-09-12T05:46:53.789852",
   "version": "2.6.0"
  }
 },
 "nbformat": 4,
 "nbformat_minor": 5
}
